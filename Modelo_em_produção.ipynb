{
  "cells": [
    {
      "cell_type": "markdown",
      "metadata": {
        "id": "view-in-github",
        "colab_type": "text"
      },
      "source": [
        "<a href=\"https://colab.research.google.com/github/Dih08/projetos-simples-e-aleatorios/blob/main/Modelo_em_produ%C3%A7%C3%A3o.ipynb\" target=\"_parent\"><img src=\"https://colab.research.google.com/assets/colab-badge.svg\" alt=\"Open In Colab\"/></a>"
      ]
    },
    {
      "cell_type": "code",
      "execution_count": null,
      "metadata": {
        "id": "f4DZ8cZt6LZn"
      },
      "outputs": [],
      "source": [
        "import numpy as np\n",
        "import pandas as pd\n",
        "import matplotlib.pyplot as plt"
      ]
    },
    {
      "cell_type": "code",
      "execution_count": null,
      "metadata": {
        "id": "-F6T_Yxl4099"
      },
      "outputs": [],
      "source": [
        "from sklearn.ensemble import RandomForestClassifier\n",
        "from sklearn.datasets import make_classification"
      ]
    },
    {
      "cell_type": "code",
      "execution_count": null,
      "metadata": {
        "id": "bk10vogF5PIa"
      },
      "outputs": [],
      "source": [
        "reg = np.random.RandomState(0)\n",
        "X, y = make_classification(n_samples=1000, n_features=5,\n",
        "                           random_state=reg)"
      ]
    },
    {
      "cell_type": "code",
      "execution_count": null,
      "metadata": {
        "id": "Fw5E_G0L6S4C"
      },
      "outputs": [],
      "source": [
        "from sklearn.model_selection import train_test_split\n",
        "X_train, X_test, y_train, y_test = train_test_split(X, y, test_size=0.33, random_state=42)"
      ]
    },
    {
      "cell_type": "markdown",
      "metadata": {
        "id": "v1SW5WFm6ZtV"
      },
      "source": [
        "Ajustando um Random Florest"
      ]
    },
    {
      "cell_type": "code",
      "execution_count": null,
      "metadata": {
        "id": "MnJYDnnY6WQa"
      },
      "outputs": [],
      "source": [
        "clf = RandomForestClassifier(n_estimators=10, random_state=reg)\n",
        "model = clf.fit(X_train, y_train)"
      ]
    },
    {
      "cell_type": "code",
      "execution_count": null,
      "metadata": {
        "id": "HXijafxs60mz"
      },
      "outputs": [],
      "source": [
        "pred = model.predict(X_test)"
      ]
    },
    {
      "cell_type": "code",
      "execution_count": null,
      "metadata": {
        "colab": {
          "base_uri": "https://localhost:8080/"
        },
        "id": "wJbBv7oz63A0",
        "outputId": "72c5324c-2970-43ef-dd83-dc7eb188c585"
      },
      "outputs": [
        {
          "name": "stdout",
          "output_type": "stream",
          "text": [
            "              precision    recall  f1-score   support\n",
            "\n",
            "           0       0.97      0.96      0.97       160\n",
            "           1       0.96      0.98      0.97       170\n",
            "\n",
            "    accuracy                           0.97       330\n",
            "   macro avg       0.97      0.97      0.97       330\n",
            "weighted avg       0.97      0.97      0.97       330\n",
            "\n"
          ]
        }
      ],
      "source": [
        "from sklearn.metrics import classification_report, recall_score, precision_score\n",
        "print(classification_report(y_test, pred))"
      ]
    },
    {
      "cell_type": "code",
      "execution_count": null,
      "metadata": {
        "id": "r-zv7YGN7S6_"
      },
      "outputs": [],
      "source": [
        "model_metrics = dict()\n",
        "model_metrics['recall'] = recall_score(y_test, pred)\n",
        "model_metrics['precision'] = precision_score(y_test, pred)"
      ]
    },
    {
      "cell_type": "code",
      "execution_count": null,
      "metadata": {
        "colab": {
          "base_uri": "https://localhost:8080/"
        },
        "id": "yqGMbRgm7mhX",
        "outputId": "7de320e6-963d-495e-a2bb-9592848cf8d6"
      },
      "outputs": [
        {
          "data": {
            "text/plain": [
              "{'recall': 0.9764705882352941, 'precision': 0.9595375722543352}"
            ]
          },
          "execution_count": 28,
          "metadata": {},
          "output_type": "execute_result"
        }
      ],
      "source": [
        "model_metrics"
      ]
    },
    {
      "cell_type": "code",
      "execution_count": null,
      "metadata": {
        "id": "0iTtc19z7oEy"
      },
      "outputs": [],
      "source": [
        "import json\n",
        "with open('model_metrics.json', 'w') as fp:\n",
        "    json.dump(model_metrics, fp)"
      ]
    },
    {
      "cell_type": "code",
      "execution_count": null,
      "metadata": {
        "colab": {
          "base_uri": "https://localhost:8080/"
        },
        "id": "OvpWqm3u8PG5",
        "outputId": "1355ce31-977e-49b7-8db3-e19fca7efb39"
      },
      "outputs": [
        {
          "data": {
            "text/plain": [
              "['model.joblib']"
            ]
          },
          "execution_count": 30,
          "metadata": {},
          "output_type": "execute_result"
        }
      ],
      "source": [
        "#Salvando o mdelo\n",
        "\n",
        "from joblib import dump, load\n",
        "dump(model, 'model.joblib')\n",
        "\n"
      ]
    },
    {
      "cell_type": "markdown",
      "metadata": {
        "id": "iQPvcIx99WcD"
      },
      "source": [
        "Criando API"
      ]
    },
    {
      "cell_type": "code",
      "execution_count": null,
      "metadata": {
        "id": "_8KGmiIK9Yxt"
      },
      "outputs": [],
      "source": [
        "from flask import Flask, request, jsonify, url_for, render_template,redirect\n",
        "import pickle\n",
        "import joblib\n",
        "import traceback\n",
        "import pandas as pd\n",
        "import numpy as np"
      ]
    },
    {
      "cell_type": "code",
      "execution_count": null,
      "metadata": {
        "id": "YTqbxRt0-Auk"
      },
      "outputs": [],
      "source": [
        "app = Flask(__name__)"
      ]
    },
    {
      "cell_type": "code",
      "execution_count": null,
      "metadata": {
        "id": "Qe4vW32n-Cz9"
      },
      "outputs": [],
      "source": [
        "modeal = joblib.load('model.joblib')"
      ]
    },
    {
      "cell_type": "code",
      "execution_count": null,
      "metadata": {
        "id": "NcGxJ5cb-GgX"
      },
      "outputs": [],
      "source": [
        "app.route('/')\n",
        "def home():\n",
        "    return render_template('index.html')"
      ]
    },
    {
      "cell_type": "code",
      "execution_count": null,
      "metadata": {
        "id": "evIGwdjt-jGi"
      },
      "outputs": [],
      "source": [
        "app.route('/predict', methods=['POST', 'GET'])\n",
        "def predict():\n",
        "  features = [x for x in request.form.values()]\n",
        "\n",
        "  features_array = np.array(features)\n",
        "  pandas_features = pd.DataFrame([features_array])\n",
        "  print(features)\n",
        "\n",
        "  prediction = model.predict(pandas_features)\n",
        "  print(prediction)\n",
        "  preds = int(prediction[0])\n",
        "  return render_template('index.html', prediction_text='{}'.format(preds))"
      ]
    },
    {
      "cell_type": "code",
      "execution_count": null,
      "metadata": {
        "colab": {
          "background_save": true,
          "base_uri": "https://localhost:8080/"
        },
        "id": "iyK_blRZAObu",
        "outputId": "7ef1142e-cb7c-4a51-e055-5d543a7dfcda"
      },
      "outputs": [
        {
          "metadata": {
            "tags": null
          },
          "name": "stdout",
          "output_type": "stream",
          "text": [
            " * Serving Flask app '__main__'\n",
            " * Debug mode: off\n"
          ]
        },
        {
          "metadata": {
            "tags": null
          },
          "name": "stderr",
          "output_type": "stream",
          "text": [
            "INFO:werkzeug:\u001b[31m\u001b[1mWARNING: This is a development server. Do not use it in a production deployment. Use a production WSGI server instead.\u001b[0m\n",
            " * Running on http://127.0.0.1:5000\n",
            "INFO:werkzeug:\u001b[33mPress CTRL+C to quit\u001b[0m\n"
          ]
        }
      ],
      "source": [
        "app.route('/model_health/<model_id>', methods=['GET'])\n",
        "def model_healt(model_id):\n",
        "  with open('model_metrics.json'.format(model_id)) as fp:\n",
        "    model_metrics = json.load(fp)\n",
        "    return model_metrics\n",
        "\n",
        "if __name__ == '__main__':\n",
        "  app.run()\n"
      ]
    }
  ],
  "metadata": {
    "colab": {
      "provenance": [],
      "authorship_tag": "ABX9TyP5au4vedlzmUyDowVX8Q9d",
      "include_colab_link": true
    },
    "kernelspec": {
      "display_name": "Python 3",
      "name": "python3"
    },
    "language_info": {
      "name": "python"
    }
  },
  "nbformat": 4,
  "nbformat_minor": 0
}