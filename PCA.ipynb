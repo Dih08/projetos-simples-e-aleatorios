{
  "nbformat": 4,
  "nbformat_minor": 0,
  "metadata": {
    "colab": {
      "provenance": [],
      "authorship_tag": "ABX9TyO+4UO13rlrspvkmgniJMdh",
      "include_colab_link": true
    },
    "kernelspec": {
      "name": "python3",
      "display_name": "Python 3"
    },
    "language_info": {
      "name": "python"
    }
  },
  "cells": [
    {
      "cell_type": "markdown",
      "metadata": {
        "id": "view-in-github",
        "colab_type": "text"
      },
      "source": [
        "<a href=\"https://colab.research.google.com/github/Dih08/projetos-simples-e-aleatorios/blob/main/PCA.ipynb\" target=\"_parent\"><img src=\"https://colab.research.google.com/assets/colab-badge.svg\" alt=\"Open In Colab\"/></a>"
      ]
    },
    {
      "cell_type": "code",
      "execution_count": 1,
      "metadata": {
        "id": "MWyhTTq8U15e"
      },
      "outputs": [],
      "source": [
        "from sklearn.model_selection import train_test_split\n",
        "from sklearn.preprocessing import StandardScaler\n",
        "from sklearn.decomposition import PCA\n",
        "from sklearn.ensemble import RandomForestClassifier\n",
        "from sklearn.metrics import accuracy_score, confusion_matrix\n",
        "import pandas as pd\n",
        "import numpy as np\n",
        "from sklearn import datasets"
      ]
    },
    {
      "cell_type": "code",
      "source": [
        "iris = datasets.load_iris()\n",
        "previsores = iris.data\n",
        "classe = iris.target\n",
        "previsores[0:4,:]"
      ],
      "metadata": {
        "colab": {
          "base_uri": "https://localhost:8080/"
        },
        "id": "h0eueMyAV4Kq",
        "outputId": "7ddf96f0-8f44-4aaf-f1d1-bd874e3d82aa"
      },
      "execution_count": 2,
      "outputs": [
        {
          "output_type": "execute_result",
          "data": {
            "text/plain": [
              "array([[5.1, 3.5, 1.4, 0.2],\n",
              "       [4.9, 3. , 1.4, 0.2],\n",
              "       [4.7, 3.2, 1.3, 0.2],\n",
              "       [4.6, 3.1, 1.5, 0.2]])"
            ]
          },
          "metadata": {},
          "execution_count": 2
        }
      ]
    },
    {
      "cell_type": "code",
      "source": [
        "#padronizados\n",
        "sc = StandardScaler()\n",
        "previsores = sc.fit_transform(previsores)\n",
        "previsores[0:4,:]"
      ],
      "metadata": {
        "colab": {
          "base_uri": "https://localhost:8080/"
        },
        "id": "YyMMPv-aYOR2",
        "outputId": "fc5d8e8c-989d-47c9-d38b-295078e84c72"
      },
      "execution_count": 6,
      "outputs": [
        {
          "output_type": "execute_result",
          "data": {
            "text/plain": [
              "array([[-0.90068117,  1.01900435, -1.34022653, -1.3154443 ],\n",
              "       [-1.14301691, -0.13197948, -1.34022653, -1.3154443 ],\n",
              "       [-1.38535265,  0.32841405, -1.39706395, -1.3154443 ],\n",
              "       [-1.50652052,  0.09821729, -1.2833891 , -1.3154443 ]])"
            ]
          },
          "metadata": {},
          "execution_count": 6
        }
      ]
    },
    {
      "cell_type": "code",
      "source": [
        "Xtrain, Xtest, ytrain, ytest = train_test_split(previsores, classe, test_size = 0.3, random_state = 1234)"
      ],
      "metadata": {
        "id": "U6X1-MVVWXC1"
      },
      "execution_count": 7,
      "outputs": []
    },
    {
      "cell_type": "code",
      "source": [
        "floresta = RandomForestClassifier(n_estimators = 100,random_state=1234)\n",
        "floresta.fit(Xtrain, ytrain)\n",
        "previsoes = floresta.predict(Xtest)\n",
        "confusao = confusion_matrix(ytest, previsoes)\n",
        "taxa_acerto = accuracy_score(ytest, previsoes)"
      ],
      "metadata": {
        "id": "X4bLfqP0XMZ2"
      },
      "execution_count": 8,
      "outputs": []
    },
    {
      "cell_type": "code",
      "source": [
        "taxa_acerto"
      ],
      "metadata": {
        "colab": {
          "base_uri": "https://localhost:8080/"
        },
        "id": "joVnzXFoXsey",
        "outputId": "37f61b73-ec78-4078-912f-c91fb5d1785d"
      },
      "execution_count": 9,
      "outputs": [
        {
          "output_type": "execute_result",
          "data": {
            "text/plain": [
              "0.9555555555555556"
            ]
          },
          "metadata": {},
          "execution_count": 9
        }
      ]
    },
    {
      "cell_type": "code",
      "source": [
        "#previsores ja padronizados\n",
        "#redução de dimensionalidade\n",
        "pca = PCA(n_components=3)\n",
        "previsores_pca = pca.fit_transform(previsores)\n",
        "previsores_pca[0:4,:]"
      ],
      "metadata": {
        "colab": {
          "base_uri": "https://localhost:8080/"
        },
        "id": "shjFdCXfXvBI",
        "outputId": "d9983496-8c8c-4cc0-de00-d9d5683b615c"
      },
      "execution_count": 10,
      "outputs": [
        {
          "output_type": "execute_result",
          "data": {
            "text/plain": [
              "array([[-2.26470281,  0.4800266 , -0.12770602],\n",
              "       [-2.08096115, -0.67413356, -0.23460885],\n",
              "       [-2.36422905, -0.34190802,  0.04420148],\n",
              "       [-2.29938422, -0.59739451,  0.09129011]])"
            ]
          },
          "metadata": {},
          "execution_count": 10
        }
      ]
    },
    {
      "cell_type": "code",
      "source": [
        "Xtrain, Xtest, ytrain, ytest = train_test_split(previsores_pca, classe, test_size = 0.3, random_state = 1234)"
      ],
      "metadata": {
        "id": "XUQGTvYDapi-"
      },
      "execution_count": 11,
      "outputs": []
    },
    {
      "cell_type": "code",
      "source": [
        "floresta = RandomForestClassifier(n_estimators = 100,random_state=1234)\n",
        "floresta.fit(Xtrain, ytrain)\n",
        "previsoes = floresta.predict(Xtest)\n",
        "confusao = confusion_matrix(ytest, previsoes)\n",
        "taxa_acerto = accuracy_score(ytest, previsoes)"
      ],
      "metadata": {
        "id": "Yv81NxTWa1Uk"
      },
      "execution_count": 12,
      "outputs": []
    },
    {
      "cell_type": "code",
      "source": [
        "taxa_acerto"
      ],
      "metadata": {
        "colab": {
          "base_uri": "https://localhost:8080/"
        },
        "id": "f093zZs2bJDt",
        "outputId": "ba597e05-ea40-49be-91d2-bd0adcc553f6"
      },
      "execution_count": 13,
      "outputs": [
        {
          "output_type": "execute_result",
          "data": {
            "text/plain": [
              "0.9333333333333333"
            ]
          },
          "metadata": {},
          "execution_count": 13
        }
      ]
    },
    {
      "cell_type": "code",
      "source": [],
      "metadata": {
        "id": "VqxJqu7_bKuf"
      },
      "execution_count": null,
      "outputs": []
    }
  ]
}